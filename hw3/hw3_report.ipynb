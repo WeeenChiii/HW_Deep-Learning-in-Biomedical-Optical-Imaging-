{
  "cells": [
    {
      "cell_type": "markdown",
      "metadata": {
        "id": "Li0bVCTuxc6n"
      },
      "source": [
        "<div align=\"center\">\n",
        "\n",
        "# National Tsing Hua University\n",
        "\n",
        "### Fall 2023\n",
        "\n",
        "#### 11210IPT 553000\n",
        "\n",
        "#### Deep Learning in Biomedical Optical Imaging\n",
        "\n",
        "## Lab 4: Build a Convolution Neural Network\n",
        "\n",
        "</div>\n"
      ]
    },
    {
      "cell_type": "code",
      "execution_count": 1,
      "metadata": {
        "id": "mGJcRwdzM7pS",
        "colab": {
          "base_uri": "https://localhost:8080/"
        },
        "outputId": "2a4c9f59-8036-495f-8cb9-66050e69f9c4"
      },
      "outputs": [
        {
          "output_type": "stream",
          "name": "stdout",
          "text": [
            "--2023-10-26 07:49:44--  https://raw.githubusercontent.com/TacoXDD/homeworks/master/dataset/train/normal.npy\n",
            "Resolving raw.githubusercontent.com (raw.githubusercontent.com)... 185.199.111.133, 185.199.109.133, 185.199.110.133, ...\n",
            "Connecting to raw.githubusercontent.com (raw.githubusercontent.com)|185.199.111.133|:443... connected.\n",
            "HTTP request sent, awaiting response... 200 OK\n",
            "Length: 65536128 (62M) [application/octet-stream]\n",
            "Saving to: ‘normal.npy’\n",
            "\n",
            "normal.npy          100%[===================>]  62.50M   300MB/s    in 0.2s    \n",
            "\n",
            "2023-10-26 07:49:44 (300 MB/s) - ‘normal.npy’ saved [65536128/65536128]\n",
            "\n",
            "--2023-10-26 07:49:44--  https://raw.githubusercontent.com/TacoXDD/homeworks/master/dataset/train/pneumonia.npy\n",
            "Resolving raw.githubusercontent.com (raw.githubusercontent.com)... 185.199.109.133, 185.199.110.133, 185.199.111.133, ...\n",
            "Connecting to raw.githubusercontent.com (raw.githubusercontent.com)|185.199.109.133|:443... connected.\n",
            "HTTP request sent, awaiting response... 200 OK\n",
            "Length: 65536128 (62M) [application/octet-stream]\n",
            "Saving to: ‘pneumonia.npy’\n",
            "\n",
            "pneumonia.npy       100%[===================>]  62.50M   324MB/s    in 0.2s    \n",
            "\n",
            "2023-10-26 07:49:44 (324 MB/s) - ‘pneumonia.npy’ saved [65536128/65536128]\n",
            "\n"
          ]
        }
      ],
      "source": [
        "# Download dataset\n",
        "!wget https://raw.githubusercontent.com/TacoXDD/homeworks/master/dataset/train/normal.npy\n",
        "!wget https://raw.githubusercontent.com/TacoXDD/homeworks/master/dataset/train/pneumonia.npy"
      ]
    },
    {
      "cell_type": "markdown",
      "metadata": {
        "id": "w-1PsC--M7pT"
      },
      "source": [
        "## A. Data Loading and Preprocessing\n",
        "\n",
        "In Convolutional Neural Networks (CNNs), the convolution operation expects the input to have a specific shape, typically denoted as `[batch_size, channels, height, width]`. The \"channels\" dimension refers to the number of input channels (or depth) of the input data.\n",
        "\n",
        "For standard RGB images, this channels value is 3 (for red, green, and blue). For grayscale images, there's only one channel. For more specialized data, there could be more channels. For example, medical imaging modalities like MRI or CT can sometimes have multiple channels representing different types of scans or different views of the same scan.\n",
        "\n",
        "When working with data that doesn't naturally have a channels dimension (e.g., plain grayscale image arrays that are just `[height, width]`), you need to explicitly add a channels dimension to match the expected input format of the CNN. This is done using `.unsqueeze(1)` which adds an additional dimension at the 1st position (0-indexed), converting a shape like `[batch_size, height, width]` to `[batch_size, 1, height, width]`. The \"1\" here indicates a single channel.\n"
      ]
    },
    {
      "cell_type": "code",
      "execution_count": 3,
      "metadata": {
        "id": "oScQ0GG6xc6r",
        "colab": {
          "base_uri": "https://localhost:8080/"
        },
        "outputId": "e56b88a0-2bab-4200-faec-f933f9cae942"
      },
      "outputs": [
        {
          "output_type": "stream",
          "name": "stdout",
          "text": [
            "Shape of abnormal_scans: (1000, 256, 256)\n",
            "Shape of normal_scans: (1000, 256, 256)\n",
            "Number of samples in train and validation are 1600 and 400.\n",
            "X_train: max value is 255.0, min value is 0.0, data type is torch.float32.\n"
          ]
        }
      ],
      "source": [
        "import torch\n",
        "from torch.utils.data import DataLoader, TensorDataset, random_split\n",
        "\n",
        "import numpy as np\n",
        "\n",
        "# Load Dataset\n",
        "abnormal_scans = np.load('pneumonia.npy')\n",
        "normal_scans = np.load('normal.npy')\n",
        "\n",
        "print(f'Shape of abnormal_scans: {abnormal_scans.shape}')\n",
        "print(f'Shape of normal_scans: {normal_scans.shape}')\n",
        "\n",
        "# For the data having presence of pneumonia assign 1, for the normal ones assign 0.\n",
        "\n",
        "abnormal_labels = np.ones((abnormal_scans.shape[0],))\n",
        "normal_labels = np.zeros((normal_scans.shape[0],))\n",
        "\n",
        "split_point = 800\n",
        "\n",
        "x_train = np.concatenate((abnormal_scans[:split_point], normal_scans[:split_point]), axis=0)\n",
        "y_train = np.concatenate((abnormal_labels[:split_point], normal_labels[:split_point]), axis=0)\n",
        "x_val = np.concatenate((abnormal_scans[split_point:], normal_scans[split_point:]), axis=0)\n",
        "y_val = np.concatenate((abnormal_labels[split_point:], normal_labels[split_point:]), axis=0)\n",
        "\n",
        "# Convert to PyTorch tensors\n",
        "x_train = torch.from_numpy(x_train).float().unsqueeze(1)\n",
        "y_train = torch.from_numpy(y_train).long()\n",
        "x_val = torch.from_numpy(x_val).float().unsqueeze(1)\n",
        "y_val = torch.from_numpy(y_val).long()\n",
        "\n",
        "# Create datasets\n",
        "train_dataset = TensorDataset(x_train, y_train)\n",
        "val_dataset = TensorDataset(x_val, y_val)\n",
        "\n",
        "# Create dataloaders\n",
        "train_loader = DataLoader(train_dataset, batch_size=32, shuffle=True)\n",
        "val_loader = DataLoader(val_dataset, batch_size=32, shuffle=False)\n",
        "\n",
        "print(f'Number of samples in train and validation are {len(train_loader.dataset)} and {len(val_loader.dataset)}.')\n",
        "print(f'X_train: max value is {x_train.max().item()}, min value is {x_train.min().item()}, data type is {x_train.dtype}.')"
      ]
    },
    {
      "cell_type": "markdown",
      "metadata": {
        "id": "oaLGtT28xc6s"
      },
      "source": [
        "## B. Defining Neural Networks\n",
        "\n",
        "### 1. Use the **Class**\n",
        "\n",
        "In PyTorch, we define our custom neural network architectures by subclassing the `nn.Module` class. This gives our neural network all the functionality it needs to work with PyTorch's other utilities and keeps our implementation organized.\n",
        "\n",
        "- Neural networks are defined by subclassing `nn.Module`.\n",
        "- The layers of the neural network are initialized in the `__init__` method.\n",
        "- The forward pass operations on input data are defined in the `forward` method.\n",
        "\n",
        "It's worth noting that while we only define the forward pass, PyTorch will automatically derive the backward pass for us, which is used during training to update the model's weights.\""
      ]
    },
    {
      "cell_type": "code",
      "execution_count": 4,
      "metadata": {
        "id": "0QppIthMuMeJ"
      },
      "outputs": [],
      "source": [
        "import torch.nn as nn\n",
        "import torch.nn.functional as F\n",
        "\n",
        "# model = nn.Sequential(\n",
        "#     nn.Flatten(),\n",
        "#     nn.Linear(256*256*1, 32), # 1st FC\n",
        "#     nn.ReLU(),\n",
        "#     nn.Linear(32, 32),        # 2nd FC\n",
        "#     nn.ReLU(),\n",
        "#     nn.Linear(32, 32),        # 3rd FC\n",
        "#     nn.ReLU(),\n",
        "#     nn.Linear(32, 1)          # 4th FC\n",
        "# ).cuda()\n",
        "\n",
        "class LinearModel(nn.Module):\n",
        "    def __init__(self):\n",
        "        super().__init__()\n",
        "        self.flatten = nn.Flatten()\n",
        "        self.fc1 = nn.Linear(256*256*1, 32)\n",
        "        self.fc2 = nn.Linear(32, 32)\n",
        "        self.fc3 = nn.Linear(32, 32)\n",
        "        self.fc4 = nn.Linear(32, 1)\n",
        "\n",
        "    def forward(self, x):\n",
        "        x = self.flatten(x)\n",
        "        x = F.relu(self.fc1(x))\n",
        "        x = F.relu(self.fc2(x))\n",
        "        x = F.relu(self.fc3(x))\n",
        "        return self.fc4(x)"
      ]
    },
    {
      "cell_type": "markdown",
      "metadata": {
        "id": "iA0pf4OruMeJ"
      },
      "source": [
        "### 2. ann2cnn\n",
        "\n",
        "To transition a model from an ANN to a CNN using `nn.Conv2d` layers, we make the following changes:\n",
        "\n",
        "- Replace `nn.Linear` layers with `nn.Conv2d` layers for the initial layers.\n",
        "- Add pooling layers after convolutional layers for spatial dimension reduction.\n",
        "- Introduce a flattening step before transitioning to fully connected layers.\n",
        "- Adjust the `forward` method to handle the convolutional and pooling operations and reshaping."
      ]
    },
    {
      "cell_type": "code",
      "execution_count": 5,
      "metadata": {
        "id": "dxT1iHqFuMeJ"
      },
      "outputs": [],
      "source": [
        "import torch.nn as nn\n",
        "import torch.nn.functional as F\n",
        "\n",
        "class ConvModel(nn.Module):\n",
        "    def __init__(self):\n",
        "        super().__init__()\n",
        "\n",
        "        # 1 channel, and using 3x3 kernels for simplicity, 256*256\n",
        "        self.conv1 = nn.Conv2d(1, 32, kernel_size=3, stride=1, padding='same')\n",
        "        #self.BatchNorm1 = nn.BatchNorm2d(32)\n",
        "        self.pool1 = nn.MaxPool2d(kernel_size=2, stride=2) # 128*128,32 channel\n",
        "        #self.drop1 = nn.Dropout(0.5)\n",
        "\n",
        "        self.conv2 = nn.Conv2d(32, 32, kernel_size=3, stride=1, padding='same') # 128*128\n",
        "        self.pool2 = nn.MaxPool2d(kernel_size=2, stride=2) # 64*64,32 channel\n",
        "        #self.drop2 = nn.Dropout(0.5)\n",
        "\n",
        "        self.conv3 = nn.Conv2d(32, 32, kernel_size=3, stride=1, padding='same') # 64*64\n",
        "        self.pool3 = nn.MaxPool2d(kernel_size=2, stride=2) # 32*32,32 channel\n",
        "        #self.drop3 = nn.Dropout(0.5)\n",
        "\n",
        "        # Adjust flattened dimensions based on the output size of your last pooling layer\n",
        "        flattened_dim = 32 * 32 * 32\n",
        "\n",
        "        self.fc1 = nn.Linear(flattened_dim, 32)\n",
        "        self.fc2 = nn.Linear(32, 1)\n",
        "\n",
        "    def forward(self, x):\n",
        "        x = F.relu(self.conv1(x))\n",
        "        x = self.pool1(x)\n",
        "\n",
        "        x = F.relu(self.conv2(x))\n",
        "        x = self.pool2(x)\n",
        "\n",
        "        x = F.relu(self.conv3(x))\n",
        "        x = self.pool3(x)\n",
        "\n",
        "        # Flatten the output for the fully connected layers\n",
        "        x = x.reshape(x.size(0), -1)  # x.size(0) is the batch size\n",
        "\n",
        "        x = F.relu(self.fc1(x))\n",
        "        return self.fc2(x)"
      ]
    },
    {
      "cell_type": "code",
      "execution_count": 35,
      "metadata": {
        "id": "j0XEbU5duMeK"
      },
      "outputs": [],
      "source": [
        "class ConvGAP(nn.Module):\n",
        "    def __init__(self):\n",
        "        super().__init__()\n",
        "\n",
        "        self.net = nn.Sequential(\n",
        "\n",
        "            nn.Conv2d(1, 32, kernel_size=3, stride=1, padding='same') ,\n",
        "            nn.ReLU(),\n",
        "            nn.MaxPool2d(kernel_size=2, stride=2), # 128*128\n",
        "\n",
        "            nn.Conv2d(32, 32, kernel_size=3, stride=1, padding='same'), # 128*128\n",
        "            #nn.Dropout(0.5),\n",
        "            nn.MaxPool2d(kernel_size=2, stride=2), # 64*64\n",
        "\n",
        "            nn.Conv2d(32, 32, kernel_size=3, stride=1, padding='same'), # 64*64\n",
        "            nn.ReLU(),\n",
        "            nn.MaxPool2d(kernel_size=2, stride=2), # 32*32\n",
        "\n",
        "            nn.Conv2d(32, 32, kernel_size=3, stride=1, padding='same') ,\n",
        "            nn.ReLU(),\n",
        "\n",
        "            nn.Conv2d(32, 32, kernel_size=3, stride=1, padding='same') ,\n",
        "            nn.ReLU(),\n",
        "\n",
        "            nn.Conv2d(32, 32, kernel_size=3, stride=1, padding='same') ,\n",
        "            nn.ReLU(),\n",
        "\n",
        "            nn.Conv2d(32, 32, kernel_size=3, stride=1, padding='same') ,\n",
        "            nn.ReLU(),\n",
        "\n",
        "            nn.AdaptiveAvgPool2d(1),\n",
        "            nn.Flatten(),\n",
        "            nn.Linear(32, 1)\n",
        "        )\n",
        "\n",
        "    def forward(self, x):\n",
        "\n",
        "        x = self.net(x)\n",
        "        return x"
      ]
    },
    {
      "cell_type": "markdown",
      "metadata": {
        "id": "nvLTU-IfZLqn"
      },
      "source": [
        "## C. Training the Neural Network\n",
        "\n",
        "`model = model.cuda()` moves the model's parameters and buffers to the GPU memory."
      ]
    },
    {
      "cell_type": "code",
      "execution_count": 36,
      "metadata": {
        "id": "45ol4lpVxc6t",
        "colab": {
          "base_uri": "https://localhost:8080/",
          "height": 969,
          "referenced_widgets": [
            "357dcd7727bc4b83a1b3f4d030378600",
            "363863567cfe4cfab49ac8e999838b53",
            "31b721c4be25443689362e9da4734e0a",
            "185a553e0ea041f2a0dbb09455bd7742",
            "83905f091ed540b2bf93d1036b09eb74",
            "dbe78aa021be4eb782c69f21cfe9860c",
            "bcba2cf1d5f24da79b6ac3f5b3105793",
            "3b4d5320707a48279122562ba14724fd",
            "4a8ee656ad8b421abec0a863070b504d",
            "aa969903cb664f15a25922297adec3b2",
            "031cfcc9067e4cf08dc69b2c48965871"
          ]
        },
        "outputId": "d6004ab6-7a29-413b-cf4f-9dba4b02bb2c"
      },
      "outputs": [
        {
          "output_type": "stream",
          "name": "stdout",
          "text": [
            "ConvGAP(\n",
            "  (net): Sequential(\n",
            "    (0): Conv2d(1, 32, kernel_size=(3, 3), stride=(1, 1), padding=same)\n",
            "    (1): ReLU()\n",
            "    (2): MaxPool2d(kernel_size=2, stride=2, padding=0, dilation=1, ceil_mode=False)\n",
            "    (3): Conv2d(32, 32, kernel_size=(3, 3), stride=(1, 1), padding=same)\n",
            "    (4): MaxPool2d(kernel_size=2, stride=2, padding=0, dilation=1, ceil_mode=False)\n",
            "    (5): Conv2d(32, 32, kernel_size=(3, 3), stride=(1, 1), padding=same)\n",
            "    (6): ReLU()\n",
            "    (7): MaxPool2d(kernel_size=2, stride=2, padding=0, dilation=1, ceil_mode=False)\n",
            "    (8): Conv2d(32, 32, kernel_size=(3, 3), stride=(1, 1), padding=same)\n",
            "    (9): ReLU()\n",
            "    (10): Conv2d(32, 32, kernel_size=(3, 3), stride=(1, 1), padding=same)\n",
            "    (11): ReLU()\n",
            "    (12): Conv2d(32, 32, kernel_size=(3, 3), stride=(1, 1), padding=same)\n",
            "    (13): ReLU()\n",
            "    (14): Conv2d(32, 32, kernel_size=(3, 3), stride=(1, 1), padding=same)\n",
            "    (15): ReLU()\n",
            "    (16): AdaptiveAvgPool2d(output_size=1)\n",
            "    (17): Flatten(start_dim=1, end_dim=-1)\n",
            "    (18): Linear(in_features=32, out_features=1, bias=True)\n",
            "  )\n",
            ")\n"
          ]
        },
        {
          "output_type": "display_data",
          "data": {
            "text/plain": [
              "  0%|          | 0/30 [00:00<?, ?it/s]"
            ],
            "application/vnd.jupyter.widget-view+json": {
              "version_major": 2,
              "version_minor": 0,
              "model_id": "357dcd7727bc4b83a1b3f4d030378600"
            }
          },
          "metadata": {}
        },
        {
          "output_type": "stream",
          "name": "stdout",
          "text": [
            "Epoch 1/30, Train loss: 0.6932, Train acc: 50.69%, Val loss: 0.6926, Val acc: 49.75%, Best Val loss: 0.6926 Best Val acc: 49.75%\n",
            "Epoch 2/30, Train loss: 0.6906, Train acc: 55.12%, Val loss: 0.6909, Val acc: 50.00%, Best Val loss: 0.6909 Best Val acc: 50.00%\n",
            "Epoch 3/30, Train loss: 0.6765, Train acc: 58.38%, Val loss: 0.5258, Val acc: 82.25%, Best Val loss: 0.5258 Best Val acc: 82.25%\n",
            "Epoch 4/30, Train loss: 0.5758, Train acc: 70.69%, Val loss: 0.4303, Val acc: 85.00%, Best Val loss: 0.4303 Best Val acc: 85.00%\n",
            "Epoch 5/30, Train loss: 0.4543, Train acc: 79.50%, Val loss: 0.3100, Val acc: 88.00%, Best Val loss: 0.3100 Best Val acc: 88.00%\n",
            "Epoch 6/30, Train loss: 0.3162, Train acc: 87.69%, Val loss: 0.2572, Val acc: 89.50%, Best Val loss: 0.2572 Best Val acc: 89.50%\n",
            "Epoch 7/30, Train loss: 0.3016, Train acc: 88.94%, Val loss: 0.3447, Val acc: 87.00%, Best Val loss: 0.2572 Best Val acc: 89.50%\n",
            "Epoch 8/30, Train loss: 0.2825, Train acc: 88.50%, Val loss: 0.2310, Val acc: 90.75%, Best Val loss: 0.2310 Best Val acc: 90.75%\n",
            "Epoch 9/30, Train loss: 0.2358, Train acc: 91.00%, Val loss: 0.2175, Val acc: 91.50%, Best Val loss: 0.2175 Best Val acc: 91.50%\n",
            "Epoch 10/30, Train loss: 0.2360, Train acc: 90.44%, Val loss: 0.2166, Val acc: 91.00%, Best Val loss: 0.2166 Best Val acc: 91.50%\n",
            "Epoch 11/30, Train loss: 0.1777, Train acc: 93.69%, Val loss: 0.1851, Val acc: 92.25%, Best Val loss: 0.1851 Best Val acc: 92.25%\n",
            "Epoch 12/30, Train loss: 0.1705, Train acc: 93.69%, Val loss: 0.1807, Val acc: 92.75%, Best Val loss: 0.1807 Best Val acc: 92.75%\n",
            "Epoch 13/30, Train loss: 0.1635, Train acc: 94.06%, Val loss: 0.1785, Val acc: 92.25%, Best Val loss: 0.1785 Best Val acc: 92.75%\n",
            "Epoch 14/30, Train loss: 0.1580, Train acc: 94.12%, Val loss: 0.1742, Val acc: 92.50%, Best Val loss: 0.1742 Best Val acc: 92.75%\n",
            "Epoch 15/30, Train loss: 0.1529, Train acc: 94.06%, Val loss: 0.1789, Val acc: 93.00%, Best Val loss: 0.1742 Best Val acc: 93.00%\n",
            "Epoch 16/30, Train loss: 0.1503, Train acc: 94.00%, Val loss: 0.1721, Val acc: 93.25%, Best Val loss: 0.1721 Best Val acc: 93.25%\n",
            "Epoch 17/30, Train loss: 0.1428, Train acc: 94.44%, Val loss: 0.2135, Val acc: 92.25%, Best Val loss: 0.1721 Best Val acc: 93.25%\n",
            "Epoch 18/30, Train loss: 0.1493, Train acc: 94.06%, Val loss: 0.1623, Val acc: 93.00%, Best Val loss: 0.1623 Best Val acc: 93.25%\n",
            "Epoch 19/30, Train loss: 0.1421, Train acc: 94.44%, Val loss: 0.1658, Val acc: 92.25%, Best Val loss: 0.1623 Best Val acc: 93.25%\n",
            "Epoch 20/30, Train loss: 0.1392, Train acc: 94.81%, Val loss: 0.1624, Val acc: 92.25%, Best Val loss: 0.1623 Best Val acc: 93.25%\n",
            "Epoch 21/30, Train loss: 0.1338, Train acc: 94.69%, Val loss: 0.1601, Val acc: 93.25%, Best Val loss: 0.1601 Best Val acc: 93.25%\n",
            "Epoch 22/30, Train loss: 0.1317, Train acc: 94.88%, Val loss: 0.1598, Val acc: 93.25%, Best Val loss: 0.1598 Best Val acc: 93.25%\n",
            "Epoch 23/30, Train loss: 0.1320, Train acc: 94.81%, Val loss: 0.1597, Val acc: 93.25%, Best Val loss: 0.1597 Best Val acc: 93.25%\n",
            "Epoch 24/30, Train loss: 0.1309, Train acc: 94.81%, Val loss: 0.1607, Val acc: 93.50%, Best Val loss: 0.1597 Best Val acc: 93.50%\n",
            "Epoch 25/30, Train loss: 0.1310, Train acc: 94.94%, Val loss: 0.1602, Val acc: 93.50%, Best Val loss: 0.1597 Best Val acc: 93.50%\n",
            "Epoch 26/30, Train loss: 0.1315, Train acc: 94.75%, Val loss: 0.1608, Val acc: 93.50%, Best Val loss: 0.1597 Best Val acc: 93.50%\n",
            "Epoch 27/30, Train loss: 0.1301, Train acc: 95.12%, Val loss: 0.1593, Val acc: 93.25%, Best Val loss: 0.1593 Best Val acc: 93.50%\n",
            "Epoch 28/30, Train loss: 0.1305, Train acc: 94.75%, Val loss: 0.1599, Val acc: 93.50%, Best Val loss: 0.1593 Best Val acc: 93.50%\n",
            "Epoch 29/30, Train loss: 0.1297, Train acc: 94.88%, Val loss: 0.1589, Val acc: 93.25%, Best Val loss: 0.1589 Best Val acc: 93.50%\n",
            "Epoch 30/30, Train loss: 0.1300, Train acc: 94.88%, Val loss: 0.1590, Val acc: 93.25%, Best Val loss: 0.1589 Best Val acc: 93.50%\n"
          ]
        }
      ],
      "source": [
        "import torch.optim as optim\n",
        "from torch.optim.lr_scheduler import CosineAnnealingLR, StepLR\n",
        "from tqdm.auto import tqdm\n",
        "\n",
        "train_losses = []\n",
        "val_losses = []\n",
        "train_accuracies = []\n",
        "val_accuracies = []\n",
        "\n",
        "epochs = 30\n",
        "\n",
        "# Change you model here\n",
        "#model = ConvModel()\n",
        "#model = LinearModel()\n",
        "model =ConvGAP()\n",
        "print(model)\n",
        "model = model.cuda()\n",
        "\n",
        "best_val_loss = float('inf')\n",
        "best_val_acc = -1\n",
        "\n",
        "criterion = nn.BCEWithLogitsLoss()\n",
        "optimizer = optim.Adam(model.parameters(), lr=1e-3)\n",
        "# lr_scheduler = CosineAnnealingLR(optimizer, T_max=len(train_loader)*epochs, eta_min=0)\n",
        "lr_scheduler = StepLR(optimizer, step_size=10, gamma=0.1)\n",
        "\n",
        "for epoch in tqdm(range(epochs)):\n",
        "    # Training\n",
        "    model.train()\n",
        "    total_loss = 0.0\n",
        "    train_correct = 0\n",
        "    total_train_samples = 0\n",
        "\n",
        "    for images, labels in train_loader:\n",
        "        images = images.cuda()\n",
        "        images = images / 255.\n",
        "        labels = labels.cuda()\n",
        "        optimizer.zero_grad()\n",
        "        outputs = model(images)\n",
        "\n",
        "        labels = labels.float().unsqueeze(1)\n",
        "\n",
        "        loss = criterion(outputs, labels)\n",
        "        loss.backward()\n",
        "        optimizer.step()\n",
        "        total_loss += loss.item()\n",
        "\n",
        "        train_predicted = torch.sigmoid(outputs) > 0.5\n",
        "        train_correct += (train_predicted.float() == labels).sum().item()\n",
        "        total_train_samples += labels.size(0)\n",
        "\n",
        "    avg_train_loss = total_loss / len(train_loader)\n",
        "    train_accuracy = 100. * train_correct / total_train_samples\n",
        "\n",
        "    # Validation\n",
        "    model.eval()\n",
        "    total_val_loss = 0.0\n",
        "    correct = 0\n",
        "    total = 0\n",
        "    with torch.no_grad():\n",
        "        for images, labels in val_loader:\n",
        "            images = images.cuda()\n",
        "            images = images / 255.\n",
        "            labels = labels.cuda()\n",
        "            outputs = model(images)\n",
        "\n",
        "            labels = labels.float().unsqueeze(1)\n",
        "\n",
        "            loss = criterion(outputs, labels)\n",
        "            total_val_loss += loss.item()\n",
        "\n",
        "            predicted = torch.sigmoid(outputs) > 0.5\n",
        "            correct += (predicted.float() == labels).sum().item()\n",
        "            total += labels.size(0)\n",
        "\n",
        "    avg_val_loss = total_val_loss / len(val_loader)\n",
        "    val_accuracy = 100. * correct / total\n",
        "\n",
        "    # Learning rate update\n",
        "    lr_scheduler.step()\n",
        "\n",
        "    # Checkpoint\n",
        "    if avg_val_loss < best_val_loss:\n",
        "        best_val_loss = avg_val_loss\n",
        "        torch.save(model.state_dict(), 'model_classification.pth')\n",
        "\n",
        "    if val_accuracy > best_val_acc:\n",
        "        best_val_acc = val_accuracy\n",
        "\n",
        "    print(f'Epoch {epoch+1}/{epochs}, Train loss: {avg_train_loss:.4f}, Train acc: {train_accuracy:.2f}%, Val loss: {avg_val_loss:.4f}, Val acc: {val_accuracy:.2f}%, Best Val loss: {best_val_loss:.4f} Best Val acc: {best_val_acc:.2f}%')\n",
        "\n",
        "    # Store performance\n",
        "    train_losses.append(avg_train_loss)\n",
        "    train_accuracies.append(train_accuracy)\n",
        "    val_losses.append(avg_val_loss)\n",
        "    val_accuracies.append(val_accuracy)"
      ]
    },
    {
      "cell_type": "markdown",
      "metadata": {
        "id": "pjmYxAJnxc6t"
      },
      "source": [
        "### Visualizing model performance"
      ]
    },
    {
      "cell_type": "code",
      "execution_count": 37,
      "metadata": {
        "id": "pHpS0Q7vxc6t",
        "colab": {
          "base_uri": "https://localhost:8080/",
          "height": 438
        },
        "outputId": "0ef450f9-63d0-4b5f-8e4f-eb12e2675c87"
      },
      "outputs": [
        {
          "output_type": "display_data",
          "data": {
            "text/plain": [
              "<Figure size 1500x500 with 2 Axes>"
            ],
            "image/png": "[encoded data removed]"
          },
          "metadata": {}
        }
      ],
      "source": [
        "import matplotlib.pyplot as plt\n",
        "\n",
        "fig, ax = plt.subplots(1, 2, figsize=(15, 5))\n",
        "\n",
        "# Plotting training and validation accuracy\n",
        "ax[0].plot(train_accuracies)\n",
        "ax[0].plot(val_accuracies)\n",
        "ax[0].set_title('Model Accuracy')\n",
        "ax[0].set_xlabel('Epochs')\n",
        "ax[0].set_ylabel('Accuracy')\n",
        "ax[0].legend(['Train', 'Val'])\n",
        "\n",
        "# Plotting training and validation loss\n",
        "ax[1].plot(train_losses)\n",
        "ax[1].plot(val_losses)\n",
        "ax[1].set_title('Model Loss')\n",
        "ax[1].set_xlabel('Epochs')\n",
        "ax[1].set_ylabel('Loss')\n",
        "ax[1].legend(['Train', 'Val'])\n",
        "\n",
        "plt.show()"
      ]
    },
    {
      "cell_type": "markdown",
      "metadata": {
        "id": "N2cTIaGTuMeL"
      },
      "source": [
        "## D. Evaluating Your Trained Model"
      ]
    },
    {
      "cell_type": "code",
      "execution_count": 24,
      "metadata": {
        "colab": {
          "base_uri": "https://localhost:8080/"
        },
        "id": "ydml8QkkuMeL",
        "outputId": "62da5c55-316f-48e9-f768-7880de0f82e7"
      },
      "outputs": [
        {
          "output_type": "stream",
          "name": "stdout",
          "text": [
            "--2023-10-26 08:24:10--  https://raw.githubusercontent.com/TacoXDD/homeworks/master/dataset/test/test_normal.npy\n",
            "Resolving raw.githubusercontent.com (raw.githubusercontent.com)... 185.199.108.133, 185.199.109.133, 185.199.110.133, ...\n",
            "Connecting to raw.githubusercontent.com (raw.githubusercontent.com)|185.199.108.133|:443... connected.\n",
            "HTTP request sent, awaiting response... 200 OK\n",
            "Length: 13107328 (12M) [application/octet-stream]\n",
            "Saving to: ‘test_normal.npy.1’\n",
            "\n",
            "\rtest_normal.npy.1     0%[                    ]       0  --.-KB/s               \rtest_normal.npy.1   100%[===================>]  12.50M  --.-KB/s    in 0.07s   \n",
            "\n",
            "2023-10-26 08:24:10 (173 MB/s) - ‘test_normal.npy.1’ saved [13107328/13107328]\n",
            "\n",
            "--2023-10-26 08:24:10--  https://raw.githubusercontent.com/TacoXDD/homeworks/master/dataset/test/test_pneumonia.npy\n",
            "Resolving raw.githubusercontent.com (raw.githubusercontent.com)... 185.199.108.133, 185.199.109.133, 185.199.110.133, ...\n",
            "Connecting to raw.githubusercontent.com (raw.githubusercontent.com)|185.199.108.133|:443... connected.\n",
            "HTTP request sent, awaiting response... 200 OK\n",
            "Length: 13107328 (12M) [application/octet-stream]\n",
            "Saving to: ‘test_pneumonia.npy.1’\n",
            "\n",
            "test_pneumonia.npy. 100%[===================>]  12.50M  --.-KB/s    in 0.07s   \n",
            "\n",
            "2023-10-26 08:24:11 (169 MB/s) - ‘test_pneumonia.npy.1’ saved [13107328/13107328]\n",
            "\n"
          ]
        }
      ],
      "source": [
        "!wget https://raw.githubusercontent.com/TacoXDD/homeworks/master/dataset/test/test_normal.npy\n",
        "!wget https://raw.githubusercontent.com/TacoXDD/homeworks/master/dataset/test/test_pneumonia.npy"
      ]
    },
    {
      "cell_type": "markdown",
      "metadata": {
        "id": "dFWG4LVGuMeL"
      },
      "source": [
        "### Process Test Dataset"
      ]
    },
    {
      "cell_type": "code",
      "execution_count": 25,
      "metadata": {
        "colab": {
          "base_uri": "https://localhost:8080/"
        },
        "id": "I4PWf5MhuMeL",
        "outputId": "d87ea4a5-e942-4ecd-f0f0-5b7cb951b337"
      },
      "outputs": [
        {
          "output_type": "stream",
          "name": "stdout",
          "text": [
            "Shape of test_abnormal: (200, 256, 256)\n",
            "Shape of test_normal: (200, 256, 256)\n",
            "Shape of x_test: (400, 256, 256)\n",
            "Shape of y_test: (400,)\n"
          ]
        }
      ],
      "source": [
        "test_abnormal = np.load('test_pneumonia.npy')\n",
        "test_normal = np.load('test_normal.npy')\n",
        "\n",
        "print(f'Shape of test_abnormal: {test_abnormal.shape}')\n",
        "print(f'Shape of test_normal: {test_normal.shape}')\n",
        "\n",
        "# For the data having presence of pneumonia assign 1, for the normal ones assign 0.\n",
        "test_abnormal_labels = np.ones((test_abnormal.shape[0],))\n",
        "test_normal_labels = np.zeros((test_normal.shape[0],))\n",
        "\n",
        "x_test = np.concatenate((test_abnormal, test_normal), axis=0)\n",
        "y_test = np.concatenate((test_abnormal_labels, test_normal_labels), axis=0)\n",
        "\n",
        "print(f'Shape of x_test: {x_test.shape}')\n",
        "print(f'Shape of y_test: {y_test.shape}')\n",
        "\n",
        "\n",
        "# Convert to PyTorch tensors\n",
        "x_test = torch.from_numpy(x_test).float().unsqueeze(1)\n",
        "y_test = torch.from_numpy(y_test).long()\n",
        "\n",
        "# Combine the images and labels into a dataset\n",
        "test_dataset = TensorDataset(x_test, y_test)\n",
        "\n",
        "# Create a dataloader to load data in batches. Set batch size to 32.\n",
        "test_loader = DataLoader(test_dataset, 32, shuffle=False)"
      ]
    },
    {
      "cell_type": "markdown",
      "metadata": {
        "id": "6U-QeltQuMeL"
      },
      "source": [
        "### Load Trained Model and Evaluate"
      ]
    },
    {
      "cell_type": "code",
      "execution_count": 38,
      "metadata": {
        "colab": {
          "base_uri": "https://localhost:8080/"
        },
        "id": "j2FSOCAPuMeL",
        "outputId": "fe86f82e-6f98-4507-815b-28685f6ac81f"
      },
      "outputs": [
        {
          "output_type": "stream",
          "name": "stdout",
          "text": [
            "Test accuracy is 72.0%\n"
          ]
        }
      ],
      "source": [
        "# Load the trained weights\n",
        "model.load_state_dict(torch.load('model_classification.pth'))\n",
        "\n",
        "# Set the model to evaluation mode\n",
        "model.eval()\n",
        "\n",
        "test_correct = 0\n",
        "test_total = 0\n",
        "\n",
        "with torch.no_grad():\n",
        "    for images, labels in test_loader:\n",
        "\n",
        "        images = images.cuda()\n",
        "        images = images / 255.\n",
        "\n",
        "        labels = labels.cuda()\n",
        "\n",
        "        outputs = model(images)\n",
        "\n",
        "        labels_float = labels.float().unsqueeze(1)  # Convert labels to float and match shape with outputs\n",
        "        predicted = torch.sigmoid(outputs) > 0.5\n",
        "\n",
        "        test_correct += (predicted.float() == labels_float).sum().item()\n",
        "        test_total += labels.size(0)\n",
        "\n",
        "print(f'Test accuracy is {100. * test_correct / test_total}%')"
      ]
    },
    {
      "cell_type": "code",
      "execution_count": null,
      "metadata": {
        "id": "ILspyMFuuMeL"
      },
      "outputs": [],
      "source": []
    }
  ],
  "metadata": {
    "accelerator": "GPU",
    "colab": {
      "gpuType": "T4",
      "provenance": []
    },
    "kernelspec": {
      "display_name": "Python 3 (ipykernel)",
      "language": "python",
      "name": "python3"
    },
    "language_info": {
      "codemirror_mode": {
        "name": "ipython",
        "version": 3
      },
      "file_extension": ".py",
      "mimetype": "text/x-python",
      "name": "python",
      "nbconvert_exporter": "python",
      "pygments_lexer": "ipython3",
      "version": "3.8.13"
    },
    "widgets": {
      "application/vnd.jupyter.widget-state+json": {
        "357dcd7727bc4b83a1b3f4d030378600": {
          "model_module": "@jupyter-widgets/controls",
          "model_name": "HBoxModel",
          "model_module_version": "1.5.0",
          "state": {
            "_dom_classes": [],
            "_model_module": "@jupyter-widgets/controls",
            "_model_module_version": "1.5.0",
            "_model_name": "HBoxModel",
            "_view_count": null,
            "_view_module": "@jupyter-widgets/controls",
            "_view_module_version": "1.5.0",
            "_view_name": "HBoxView",
            "box_style": "",
            "children": [
              "IPY_MODEL_363863567cfe4cfab49ac8e999838b53",
              "IPY_MODEL_31b721c4be25443689362e9da4734e0a",
              "IPY_MODEL_185a553e0ea041f2a0dbb09455bd7742"
            ],
            "layout": "IPY_MODEL_83905f091ed540b2bf93d1036b09eb74"
          }
        },
        "363863567cfe4cfab49ac8e999838b53": {
          "model_module": "@jupyter-widgets/controls",
          "model_name": "HTMLModel",
          "model_module_version": "1.5.0",
          "state": {
            "_dom_classes": [],
            "_model_module": "@jupyter-widgets/controls",
            "_model_module_version": "1.5.0",
            "_model_name": "HTMLModel",
            "_view_count": null,
            "_view_module": "@jupyter-widgets/controls",
            "_view_module_version": "1.5.0",
            "_view_name": "HTMLView",
            "description": "",
            "description_tooltip": null,
            "layout": "IPY_MODEL_dbe78aa021be4eb782c69f21cfe9860c",
            "placeholder": "​",
            "style": "IPY_MODEL_bcba2cf1d5f24da79b6ac3f5b3105793",
            "value": "100%"
          }
        },
        "31b721c4be25443689362e9da4734e0a": {
          "model_module": "@jupyter-widgets/controls",
          "model_name": "FloatProgressModel",
          "model_module_version": "1.5.0",
          "state": {
            "_dom_classes": [],
            "_model_module": "@jupyter-widgets/controls",
            "_model_module_version": "1.5.0",
            "_model_name": "FloatProgressModel",
            "_view_count": null,
            "_view_module": "@jupyter-widgets/controls",
            "_view_module_version": "1.5.0",
            "_view_name": "ProgressView",
            "bar_style": "success",
            "description": "",
            "description_tooltip": null,
            "layout": "IPY_MODEL_3b4d5320707a48279122562ba14724fd",
            "max": 30,
            "min": 0,
            "orientation": "horizontal",
            "style": "IPY_MODEL_4a8ee656ad8b421abec0a863070b504d",
            "value": 30
          }
        },
        "185a553e0ea041f2a0dbb09455bd7742": {
          "model_module": "@jupyter-widgets/controls",
          "model_name": "HTMLModel",
          "model_module_version": "1.5.0",
          "state": {
            "_dom_classes": [],
            "_model_module": "@jupyter-widgets/controls",
            "_model_module_version": "1.5.0",
            "_model_name": "HTMLModel",
            "_view_count": null,
            "_view_module": "@jupyter-widgets/controls",
            "_view_module_version": "1.5.0",
            "_view_name": "HTMLView",
            "description": "",
            "description_tooltip": null,
            "layout": "IPY_MODEL_aa969903cb664f15a25922297adec3b2",
            "placeholder": "​",
            "style": "IPY_MODEL_031cfcc9067e4cf08dc69b2c48965871",
            "value": " 30/30 [01:12&lt;00:00,  2.40s/it]"
          }
        },
        "83905f091ed540b2bf93d1036b09eb74": {
          "model_module": "@jupyter-widgets/base",
          "model_name": "LayoutModel",
          "model_module_version": "1.2.0",
          "state": {
            "_model_module": "@jupyter-widgets/base",
            "_model_module_version": "1.2.0",
            "_model_name": "LayoutModel",
            "_view_count": null,
            "_view_module": "@jupyter-widgets/base",
            "_view_module_version": "1.2.0",
            "_view_name": "LayoutView",
            "align_content": null,
            "align_items": null,
            "align_self": null,
            "border": null,
            "bottom": null,
            "display": null,
            "flex": null,
            "flex_flow": null,
            "grid_area": null,
            "grid_auto_columns": null,
            "grid_auto_flow": null,
            "grid_auto_rows": null,
            "grid_column": null,
            "grid_gap": null,
            "grid_row": null,
            "grid_template_areas": null,
            "grid_template_columns": null,
            "grid_template_rows": null,
            "height": null,
            "justify_content": null,
            "justify_items": null,
            "left": null,
            "margin": null,
            "max_height": null,
            "max_width": null,
            "min_height": null,
            "min_width": null,
            "object_fit": null,
            "object_position": null,
            "order": null,
            "overflow": null,
            "overflow_x": null,
            "overflow_y": null,
            "padding": null,
            "right": null,
            "top": null,
            "visibility": null,
            "width": null
          }
        },
        "dbe78aa021be4eb782c69f21cfe9860c": {
          "model_module": "@jupyter-widgets/base",
          "model_name": "LayoutModel",
          "model_module_version": "1.2.0",
          "state": {
            "_model_module": "@jupyter-widgets/base",
            "_model_module_version": "1.2.0",
            "_model_name": "LayoutModel",
            "_view_count": null,
            "_view_module": "@jupyter-widgets/base",
            "_view_module_version": "1.2.0",
            "_view_name": "LayoutView",
            "align_content": null,
            "align_items": null,
            "align_self": null,
            "border": null,
            "bottom": null,
            "display": null,
            "flex": null,
            "flex_flow": null,
            "grid_area": null,
            "grid_auto_columns": null,
            "grid_auto_flow": null,
            "grid_auto_rows": null,
            "grid_column": null,
            "grid_gap": null,
            "grid_row": null,
            "grid_template_areas": null,
            "grid_template_columns": null,
            "grid_template_rows": null,
            "height": null,
            "justify_content": null,
            "justify_items": null,
            "left": null,
            "margin": null,
            "max_height": null,
            "max_width": null,
            "min_height": null,
            "min_width": null,
            "object_fit": null,
            "object_position": null,
            "order": null,
            "overflow": null,
            "overflow_x": null,
            "overflow_y": null,
            "padding": null,
            "right": null,
            "top": null,
            "visibility": null,
            "width": null
          }
        },
        "bcba2cf1d5f24da79b6ac3f5b3105793": {
          "model_module": "@jupyter-widgets/controls",
          "model_name": "DescriptionStyleModel",
          "model_module_version": "1.5.0",
          "state": {
            "_model_module": "@jupyter-widgets/controls",
            "_model_module_version": "1.5.0",
            "_model_name": "DescriptionStyleModel",
            "_view_count": null,
            "_view_module": "@jupyter-widgets/base",
            "_view_module_version": "1.2.0",
            "_view_name": "StyleView",
            "description_width": ""
          }
        },
        "3b4d5320707a48279122562ba14724fd": {
          "model_module": "@jupyter-widgets/base",
          "model_name": "LayoutModel",
          "model_module_version": "1.2.0",
          "state": {
            "_model_module": "@jupyter-widgets/base",
            "_model_module_version": "1.2.0",
            "_model_name": "LayoutModel",
            "_view_count": null,
            "_view_module": "@jupyter-widgets/base",
            "_view_module_version": "1.2.0",
            "_view_name": "LayoutView",
            "align_content": null,
            "align_items": null,
            "align_self": null,
            "border": null,
            "bottom": null,
            "display": null,
            "flex": null,
            "flex_flow": null,
            "grid_area": null,
            "grid_auto_columns": null,
            "grid_auto_flow": null,
            "grid_auto_rows": null,
            "grid_column": null,
            "grid_gap": null,
            "grid_row": null,
            "grid_template_areas": null,
            "grid_template_columns": null,
            "grid_template_rows": null,
            "height": null,
            "justify_content": null,
            "justify_items": null,
            "left": null,
            "margin": null,
            "max_height": null,
            "max_width": null,
            "min_height": null,
            "min_width": null,
            "object_fit": null,
            "object_position": null,
            "order": null,
            "overflow": null,
            "overflow_x": null,
            "overflow_y": null,
            "padding": null,
            "right": null,
            "top": null,
            "visibility": null,
            "width": null
          }
        },
        "4a8ee656ad8b421abec0a863070b504d": {
          "model_module": "@jupyter-widgets/controls",
          "model_name": "ProgressStyleModel",
          "model_module_version": "1.5.0",
          "state": {
            "_model_module": "@jupyter-widgets/controls",
            "_model_module_version": "1.5.0",
            "_model_name": "ProgressStyleModel",
            "_view_count": null,
            "_view_module": "@jupyter-widgets/base",
            "_view_module_version": "1.2.0",
            "_view_name": "StyleView",
            "bar_color": null,
            "description_width": ""
          }
        },
        "aa969903cb664f15a25922297adec3b2": {
          "model_module": "@jupyter-widgets/base",
          "model_name": "LayoutModel",
          "model_module_version": "1.2.0",
          "state": {
            "_model_module": "@jupyter-widgets/base",
            "_model_module_version": "1.2.0",
            "_model_name": "LayoutModel",
            "_view_count": null,
            "_view_module": "@jupyter-widgets/base",
            "_view_module_version": "1.2.0",
            "_view_name": "LayoutView",
            "align_content": null,
            "align_items": null,
            "align_self": null,
            "border": null,
            "bottom": null,
            "display": null,
            "flex": null,
            "flex_flow": null,
            "grid_area": null,
            "grid_auto_columns": null,
            "grid_auto_flow": null,
            "grid_auto_rows": null,
            "grid_column": null,
            "grid_gap": null,
            "grid_row": null,
            "grid_template_areas": null,
            "grid_template_columns": null,
            "grid_template_rows": null,
            "height": null,
            "justify_content": null,
            "justify_items": null,
            "left": null,
            "margin": null,
            "max_height": null,
            "max_width": null,
            "min_height": null,
            "min_width": null,
            "object_fit": null,
            "object_position": null,
            "order": null,
            "overflow": null,
            "overflow_x": null,
            "overflow_y": null,
            "padding": null,
            "right": null,
            "top": null,
            "visibility": null,
            "width": null
          }
        },
        "031cfcc9067e4cf08dc69b2c48965871": {
          "model_module": "@jupyter-widgets/controls",
          "model_name": "DescriptionStyleModel",
          "model_module_version": "1.5.0",
          "state": {
            "_model_module": "@jupyter-widgets/controls",
            "_model_module_version": "1.5.0",
            "_model_name": "DescriptionStyleModel",
            "_view_count": null,
            "_view_module": "@jupyter-widgets/base",
            "_view_module_version": "1.2.0",
            "_view_name": "StyleView",
            "description_width": ""
          }
        }
      }
    }
  },
  "nbformat": 4,
  "nbformat_minor": 0
}