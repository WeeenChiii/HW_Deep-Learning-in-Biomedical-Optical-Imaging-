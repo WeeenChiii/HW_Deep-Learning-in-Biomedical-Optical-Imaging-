{
  "cells": [
    {
      "cell_type": "markdown",
      "metadata": {
        "id": "view-in-github",
        "colab_type": "text"
      },
      "source": [
        "<a href=\"https://colab.research.google.com/github/WeeenChiii/NTHU_2023_DLBOI_HW/blob/main/hw2_report.ipynb\" target=\"_parent\"><img src=\"https://colab.research.google.com/assets/colab-badge.svg\" alt=\"Open In Colab\"/></a>"
      ]
    },
    {
      "cell_type": "markdown",
      "metadata": {
        "id": "Li0bVCTuxc6n"
      },
      "source": [
        "<div align=\"center\">\n",
        "\n",
        "# National Tsing Hua University\n",
        "\n",
        "### Fall 2023\n",
        "\n",
        "#### 11210IPT 553000\n",
        "\n",
        "#### Deep Learning in Biomedical Optical Imaging\n",
        "\n",
        "## HW2 Report\n",
        "\n",
        "##### 110066515 陳文祺\n",
        "\n",
        "</div>\n"
      ]
    },
    {
      "cell_type": "code",
      "execution_count": 4,
      "metadata": {
        "id": "mGJcRwdzM7pS",
        "colab": {
          "base_uri": "https://localhost:8080/"
        },
        "outputId": "d738809f-2525-4ccc-969f-cfbab85c9185"
      },
      "outputs": [
        {
          "output_type": "stream",
          "name": "stdout",
          "text": [
            "--2023-10-16 05:55:31--  https://raw.githubusercontent.com/TacoXDD/homeworks/master/dataset/train/normal.npy\n",
            "Resolving raw.githubusercontent.com (raw.githubusercontent.com)... 185.199.108.133, 185.199.109.133, 185.199.110.133, ...\n",
            "Connecting to raw.githubusercontent.com (raw.githubusercontent.com)|185.199.108.133|:443... connected.\n",
            "HTTP request sent, awaiting response... 200 OK\n",
            "Length: 65536128 (62M) [application/octet-stream]\n",
            "Saving to: ‘normal.npy.1’\n",
            "\n",
            "normal.npy.1        100%[===================>]  62.50M   262MB/s    in 0.2s    \n",
            "\n",
            "2023-10-16 05:55:31 (262 MB/s) - ‘normal.npy.1’ saved [65536128/65536128]\n",
            "\n",
            "--2023-10-16 05:55:31--  https://raw.githubusercontent.com/TacoXDD/homeworks/master/dataset/train/pneumonia.npy\n",
            "Resolving raw.githubusercontent.com (raw.githubusercontent.com)... 185.199.111.133, 185.199.108.133, 185.199.109.133, ...\n",
            "Connecting to raw.githubusercontent.com (raw.githubusercontent.com)|185.199.111.133|:443... connected.\n",
            "HTTP request sent, awaiting response... 200 OK\n",
            "Length: 65536128 (62M) [application/octet-stream]\n",
            "Saving to: ‘pneumonia.npy.1’\n",
            "\n",
            "pneumonia.npy.1     100%[===================>]  62.50M   186MB/s    in 0.3s    \n",
            "\n",
            "2023-10-16 05:55:32 (186 MB/s) - ‘pneumonia.npy.1’ saved [65536128/65536128]\n",
            "\n"
          ]
        }
      ],
      "source": [
        "# # Download dataset\n",
        "#!wget https://raw.githubusercontent.com/TacoXDD/homeworks/master/dataset/train/normal.npy\n",
        "#!wget https://raw.githubusercontent.com/TacoXDD/homeworks/master/dataset/train/pneumonia.npy"
      ]
    },
    {
      "cell_type": "markdown",
      "metadata": {
        "id": "w-1PsC--M7pT"
      },
      "source": [
        "## A. Data Loading and Preprocessing"
      ]
    },
    {
      "cell_type": "code",
      "execution_count": 14,
      "metadata": {
        "id": "oScQ0GG6xc6r",
        "colab": {
          "base_uri": "https://localhost:8080/"
        },
        "outputId": "5e53b1f4-d427-4e8a-d06a-d27da82a7d60"
      },
      "outputs": [
        {
          "output_type": "stream",
          "name": "stdout",
          "text": [
            "Shape of abnormal_scans: (1000, 256, 256)\n",
            "Shape of normal_scans: (1000, 256, 256)\n",
            "Shape of x_train: (1800, 256, 256)\n",
            "Shape of y_train: (1800,)\n",
            "Number of samples in train and validation are 1800 and 200.\n",
            "X_train: max value is 255.0, min value is 0.0, data type is torch.float32.\n",
            "Y_train: max value is 1, min value is 0, data type is torch.int64.\n"
          ]
        }
      ],
      "source": [
        "import torch\n",
        "from torch.utils.data import DataLoader, TensorDataset, random_split\n",
        "\n",
        "import numpy as np\n",
        "\n",
        "# Load Dataset\n",
        "abnormal_scans = np.load('pneumonia.npy')\n",
        "normal_scans = np.load('normal.npy')\n",
        "\n",
        "print(f'Shape of abnormal_scans: {abnormal_scans.shape}')\n",
        "print(f'Shape of normal_scans: {normal_scans.shape}')\n",
        "\n",
        "# For the data having presence of pneumonia assign 1, for the normal ones assign 0.\n",
        "\n",
        "abnormal_labels = np.ones((abnormal_scans.shape[0],))\n",
        "normal_labels = np.zeros((normal_scans.shape[0],))\n",
        "\n",
        "split_point = 900\n",
        "\n",
        "x_train = np.concatenate((abnormal_scans[:split_point], normal_scans[:split_point]), axis=0)\n",
        "y_train = np.concatenate((abnormal_labels[:split_point], normal_labels[:split_point]), axis=0)\n",
        "print(f'Shape of x_train: {x_train.shape}')\n",
        "print(f'Shape of y_train: {y_train.shape}')\n",
        "\n",
        "x_val = np.concatenate((abnormal_scans[split_point:], normal_scans[split_point:]), axis=0)\n",
        "y_val = np.concatenate((abnormal_labels[split_point:], normal_labels[split_point:]), axis=0)\n",
        "\n",
        "# Convert to PyTorch tensors\n",
        "x_train = torch.from_numpy(x_train).float()\n",
        "y_train = torch.from_numpy(y_train).long()\n",
        "x_val = torch.from_numpy(x_val).float()\n",
        "y_val = torch.from_numpy(y_val).long()\n",
        "\n",
        "# Create datasets\n",
        "train_dataset = TensorDataset(x_train, y_train)\n",
        "val_dataset = TensorDataset(x_val, y_val)\n",
        "\n",
        "# Create dataloaders\n",
        "train_loader = DataLoader(train_dataset, batch_size=128, shuffle=True)\n",
        "val_loader = DataLoader(val_dataset, batch_size=128, shuffle=False)\n",
        "\n",
        "print(f'Number of samples in train and validation are {len(train_loader.dataset)} and {len(val_loader.dataset)}.')\n",
        "print(f'X_train: max value is {x_train.max().item()}, min value is {x_train.min().item()}, data type is {x_train.dtype}.')\n",
        "print(f'Y_train: max value is {y_train.max().item()}, min value is {y_train.min().item()}, data type is {y_train.dtype}.')"
      ]
    },
    {
      "cell_type": "markdown",
      "metadata": {
        "id": "oaLGtT28xc6s"
      },
      "source": [
        "## B. Defining Neural Networks in PyTorch"
      ]
    },
    {
      "cell_type": "code",
      "execution_count": 80,
      "metadata": {
        "id": "JZP0t5kOxc6s",
        "outputId": "9134fecb-5d93-46ad-c19d-5fecc3039ebd",
        "colab": {
          "base_uri": "https://localhost:8080/"
        }
      },
      "outputs": [
        {
          "output_type": "stream",
          "name": "stdout",
          "text": [
            "Sequential(\n",
            "  (0): Flatten(start_dim=1, end_dim=-1)\n",
            "  (1): Linear(in_features=65536, out_features=64, bias=True)\n",
            "  (2): BatchNorm1d(64, eps=1e-05, momentum=0.1, affine=True, track_running_stats=True)\n",
            "  (3): ReLU()\n",
            "  (4): Dropout(p=0, inplace=False)\n",
            "  (5): Linear(in_features=64, out_features=64, bias=True)\n",
            "  (6): BatchNorm1d(64, eps=1e-05, momentum=0.1, affine=True, track_running_stats=True)\n",
            "  (7): ReLU()\n",
            "  (8): Dropout(p=0, inplace=False)\n",
            "  (9): Linear(in_features=64, out_features=64, bias=True)\n",
            "  (10): BatchNorm1d(64, eps=1e-05, momentum=0.1, affine=True, track_running_stats=True)\n",
            "  (11): ReLU()\n",
            "  (12): Dropout(p=0, inplace=False)\n",
            "  (13): Linear(in_features=64, out_features=2, bias=True)\n",
            ")\n"
          ]
        }
      ],
      "source": [
        "import torch.nn as nn\n",
        "\n",
        "# Model in Lab 2\n",
        "# model = nn.Sequential(\n",
        "#     nn.Flatten(),\n",
        "#     nn.Linear(256*256*1, 256),\n",
        "#     nn.ReLU(),\n",
        "#     nn.Linear(256, 1)\n",
        "# ).cuda()\n",
        "\n",
        "model = nn.Sequential(\n",
        "    nn.Flatten(),\n",
        "\n",
        "    nn.Linear(256*256*1, 64),\n",
        "    nn.BatchNorm1d(64),\n",
        "    nn.ReLU(),\n",
        "    nn.Dropout(0),\n",
        "\n",
        "    nn.Linear(64, 64),\n",
        "    nn.BatchNorm1d(64),\n",
        "    nn.ReLU(),\n",
        "    nn.Dropout(0),\n",
        "\n",
        "    nn.Linear(64, 64),\n",
        "    nn.BatchNorm1d(64),\n",
        "    nn.ReLU(),\n",
        "    nn.Dropout(0),\n",
        "\n",
        "    nn.Linear(64, 2)      # for CE\n",
        "    #nn.Linear(64, 1)     # for BCE\n",
        ").cuda()\n",
        "\n",
        "print(model)\n"
      ]
    },
    {
      "cell_type": "markdown",
      "metadata": {
        "id": "nvLTU-IfZLqn"
      },
      "source": [
        "## C. Training the Neural Network"
      ]
    },
    {
      "cell_type": "code",
      "execution_count": 81,
      "metadata": {
        "id": "45ol4lpVxc6t",
        "outputId": "2fd51e08-b939-4b49-d8cc-261be547b034",
        "colab": {
          "base_uri": "https://localhost:8080/"
        }
      },
      "outputs": [
        {
          "output_type": "stream",
          "name": "stdout",
          "text": [
            "Epoch 1/30, Train Loss: 0.5749, Train Accuracy: 70.72%, Val Loss: 0.6444, Val Accuracy: 50.00%\n",
            "Epoch 2/30, Train Loss: 0.4415, Train Accuracy: 86.61%, Val Loss: 0.5566, Val Accuracy: 79.00%\n",
            "Epoch 3/30, Train Loss: 0.3906, Train Accuracy: 91.28%, Val Loss: 0.4269, Val Accuracy: 85.50%\n",
            "Epoch 4/30, Train Loss: 0.3568, Train Accuracy: 93.33%, Val Loss: 0.3644, Val Accuracy: 90.00%\n",
            "Epoch 5/30, Train Loss: 0.3457, Train Accuracy: 94.56%, Val Loss: 0.3531, Val Accuracy: 94.00%\n",
            "Epoch 6/30, Train Loss: 0.3329, Train Accuracy: 94.89%, Val Loss: 0.3502, Val Accuracy: 91.00%\n",
            "Epoch 7/30, Train Loss: 0.3319, Train Accuracy: 95.00%, Val Loss: 0.3369, Val Accuracy: 90.00%\n",
            "Epoch 8/30, Train Loss: 0.3203, Train Accuracy: 95.17%, Val Loss: 0.3287, Val Accuracy: 91.50%\n",
            "Epoch 9/30, Train Loss: 0.3277, Train Accuracy: 95.89%, Val Loss: 0.3377, Val Accuracy: 93.50%\n",
            "Epoch 10/30, Train Loss: 0.3175, Train Accuracy: 95.61%, Val Loss: 0.3402, Val Accuracy: 93.00%\n",
            "Epoch 11/30, Train Loss: 0.3124, Train Accuracy: 95.72%, Val Loss: 0.3377, Val Accuracy: 93.00%\n",
            "Epoch 12/30, Train Loss: 0.3091, Train Accuracy: 96.11%, Val Loss: 0.3313, Val Accuracy: 93.00%\n",
            "Epoch 13/30, Train Loss: 0.3152, Train Accuracy: 96.06%, Val Loss: 0.3277, Val Accuracy: 93.00%\n",
            "Epoch 14/30, Train Loss: 0.3089, Train Accuracy: 96.33%, Val Loss: 0.3276, Val Accuracy: 92.50%\n",
            "Epoch 15/30, Train Loss: 0.3203, Train Accuracy: 95.94%, Val Loss: 0.3282, Val Accuracy: 92.00%\n",
            "Epoch 16/30, Train Loss: 0.3057, Train Accuracy: 96.06%, Val Loss: 0.3260, Val Accuracy: 93.50%\n",
            "Epoch 17/30, Train Loss: 0.3096, Train Accuracy: 96.28%, Val Loss: 0.3214, Val Accuracy: 93.50%\n",
            "Epoch 18/30, Train Loss: 0.3049, Train Accuracy: 96.28%, Val Loss: 0.3264, Val Accuracy: 93.00%\n",
            "Epoch 19/30, Train Loss: 0.3098, Train Accuracy: 96.50%, Val Loss: 0.3199, Val Accuracy: 93.00%\n",
            "Epoch 20/30, Train Loss: 0.3065, Train Accuracy: 96.44%, Val Loss: 0.3199, Val Accuracy: 94.00%\n",
            "Epoch 21/30, Train Loss: 0.3166, Train Accuracy: 96.00%, Val Loss: 0.3196, Val Accuracy: 93.50%\n",
            "Epoch 22/30, Train Loss: 0.3037, Train Accuracy: 96.33%, Val Loss: 0.3242, Val Accuracy: 94.00%\n",
            "Epoch 23/30, Train Loss: 0.3076, Train Accuracy: 96.11%, Val Loss: 0.3251, Val Accuracy: 94.00%\n",
            "Epoch 24/30, Train Loss: 0.3130, Train Accuracy: 96.39%, Val Loss: 0.3204, Val Accuracy: 93.50%\n",
            "Epoch 25/30, Train Loss: 0.3271, Train Accuracy: 96.17%, Val Loss: 0.3162, Val Accuracy: 94.00%\n",
            "Epoch 26/30, Train Loss: 0.3080, Train Accuracy: 95.83%, Val Loss: 0.3228, Val Accuracy: 94.00%\n",
            "Epoch 27/30, Train Loss: 0.3084, Train Accuracy: 95.94%, Val Loss: 0.3256, Val Accuracy: 93.00%\n",
            "Epoch 28/30, Train Loss: 0.3025, Train Accuracy: 96.28%, Val Loss: 0.3265, Val Accuracy: 93.00%\n",
            "Epoch 29/30, Train Loss: 0.3054, Train Accuracy: 96.11%, Val Loss: 0.3246, Val Accuracy: 93.00%\n",
            "Epoch 30/30, Train Loss: 0.3057, Train Accuracy: 96.17%, Val Loss: 0.3216, Val Accuracy: 93.50%\n"
          ]
        }
      ],
      "source": [
        "import torch.optim as optim\n",
        "from torch.optim.lr_scheduler import CosineAnnealingLR, StepLR\n",
        "\n",
        "train_losses = []\n",
        "val_losses = []\n",
        "train_accuracies = []\n",
        "val_accuracies = []\n",
        "\n",
        "epochs = 30\n",
        "best_val_loss = float('inf')\n",
        "\n",
        "# Criterion and Optimizer\n",
        "#criterion = nn.BCEWithLogitsLoss() # for BCE\n",
        "criterion = nn.CrossEntropyLoss()   # for CE\n",
        "\n",
        "optimizer = optim.Adam(model.parameters(), lr=3e-6)\n",
        "#lr_scheduler = CosineAnnealingLR(optimizer, T_max=len(train_loader)*epochs, eta_min=0)\n",
        "lr_scheduler = StepLR(optimizer, step_size=4, gamma=0.4)\n",
        "\n",
        "for epoch in range(epochs):\n",
        "    # Training\n",
        "    model.train()\n",
        "    total_loss = 0.0\n",
        "    train_correct = 0\n",
        "    total_train_samples = 0\n",
        "\n",
        "    for images, labels in train_loader:\n",
        "        images = images.cuda()\n",
        "        images = images / 255.0\n",
        "        labels = labels.cuda()\n",
        "        optimizer.zero_grad()\n",
        "        outputs = model(images)\n",
        "\n",
        "        #labels = labels.float().unsqueeze(1) # for BCE\n",
        "        labels = labels.long() # for CE\n",
        "\n",
        "        loss = criterion(outputs, labels)\n",
        "        loss.backward()\n",
        "        optimizer.step()\n",
        "        total_loss += loss.item()\n",
        "\n",
        "        #train_predicted = torch.sigmoid(outputs) > 0.5  # for BCE\n",
        "        train_predicted = outputs.argmax(-1)  # for CE\n",
        "\n",
        "        train_correct += (train_predicted.float() == labels).sum().item()\n",
        "        total_train_samples += labels.size(0)\n",
        "\n",
        "    avg_train_loss = total_loss / len(train_loader)\n",
        "    train_accuracy = 100. * train_correct / total_train_samples\n",
        "\n",
        "    # Validation\n",
        "    model.eval()\n",
        "    total_val_loss = 0.0\n",
        "    correct = 0\n",
        "    total = 0\n",
        "    with torch.no_grad():\n",
        "        for images, labels in val_loader:\n",
        "            images = images.cuda()\n",
        "            images = images / 255.\n",
        "            labels = labels.cuda()\n",
        "            outputs = model(images)\n",
        "\n",
        "            #labels = labels.float().unsqueeze(1) # for BCE\n",
        "            labels = labels.long() # for CE\n",
        "\n",
        "            loss = criterion(outputs, labels)\n",
        "            total_val_loss += loss.item()\n",
        "\n",
        "            #predicted = torch.sigmoid(outputs) > 0.5   # for BCE\n",
        "            predicted = outputs.argmax(-1)  # for CE\n",
        "            correct += (predicted.float() == labels).sum().item()\n",
        "            total += labels.size(0)\n",
        "\n",
        "    avg_val_loss = total_val_loss / len(val_loader)\n",
        "    val_accuracy = 100. * correct / total\n",
        "\n",
        "    print(f'Epoch {epoch+1}/{epochs}, Train Loss: {avg_train_loss:.4f}, Train Accuracy: {train_accuracy:.2f}%, Val Loss: {avg_val_loss:.4f}, Val Accuracy: {val_accuracy:.2f}%')\n",
        "\n",
        "    # Learning rate update\n",
        "    lr_scheduler.step()\n",
        "\n",
        "    # Checkpoint\n",
        "    if avg_val_loss < best_val_loss:\n",
        "        best_val_loss = avg_val_loss\n",
        "        torch.save(model.state_dict(), 'model_classification.pth')\n",
        "\n",
        "    # Store performance\n",
        "    train_losses.append(avg_train_loss)\n",
        "    train_accuracies.append(train_accuracy)\n",
        "    val_losses.append(avg_val_loss)\n",
        "    val_accuracies.append(val_accuracy)\n",
        "\n"
      ]
    },
    {
      "cell_type": "code",
      "execution_count": 82,
      "metadata": {
        "id": "pHpS0Q7vxc6t",
        "outputId": "337c5208-8b66-406d-dc32-0ebcc807b663",
        "colab": {
          "base_uri": "https://localhost:8080/",
          "height": 323
        }
      },
      "outputs": [
        {
          "output_type": "display_data",
          "data": {
            "text/plain": [
              "<Figure size 1500x500 with 2 Axes>"
            ],
            "image/png": "[encoded data removed]"
          },
          "metadata": {}
        }
      ],
      "source": [
        "import matplotlib.pyplot as plt\n",
        "\n",
        "fig, ax = plt.subplots(1, 2, figsize=(15, 5))\n",
        "\n",
        "# Plotting training and validation accuracy\n",
        "ax[0].plot(train_accuracies)\n",
        "ax[0].plot(val_accuracies)\n",
        "ax[0].set_title('Model Accuracy')\n",
        "ax[0].set_xlabel('Epochs')\n",
        "ax[0].set_ylabel('Accuracy')\n",
        "ax[0].legend(['Train', 'Val'])\n",
        "\n",
        "# Plotting training and validation loss\n",
        "ax[1].plot(train_losses)\n",
        "ax[1].plot(val_losses)\n",
        "ax[1].set_title('Model Loss')\n",
        "ax[1].set_xlabel('Epochs')\n",
        "ax[1].set_ylabel('Loss')\n",
        "ax[1].legend(['Train', 'Val'])\n",
        "\n",
        "plt.show()"
      ]
    },
    {
      "cell_type": "code",
      "execution_count": 57,
      "metadata": {
        "id": "GWaE4tQKCyUe",
        "colab": {
          "base_uri": "https://localhost:8080/"
        },
        "outputId": "89ade034-078a-4b59-8231-3726af6744c5"
      },
      "outputs": [
        {
          "output_type": "stream",
          "name": "stdout",
          "text": [
            "Shape of test_abnormal: (200, 256, 256)\n",
            "Shape of test_normal: (200, 256, 256)\n",
            "Shape of x_test: (400, 256, 256)\n",
            "Shape of y_test: (400,)\n"
          ]
        }
      ],
      "source": [
        "#!wget https://raw.githubusercontent.com/TacoXDD/homeworks/master/dataset/test/test_normal.npy\n",
        "#!wget https://raw.githubusercontent.com/TacoXDD/homeworks/master/dataset/test/test_pneumonia.npy\n",
        "\n",
        "import numpy as np\n",
        "\n",
        "test_abnormal = np.load('test_pneumonia.npy')\n",
        "test_normal = np.load('test_normal.npy')\n",
        "\n",
        "print(f'Shape of test_abnormal: {test_abnormal.shape}')\n",
        "print(f'Shape of test_normal: {test_normal.shape}')\n",
        "\n",
        "# For the data having presence of pneumonia assign 1, for the normal ones assign 0.\n",
        "test_abnormal_labels = np.ones((test_abnormal.shape[0],))\n",
        "test_normal_labels = np.zeros((test_normal.shape[0],))\n",
        "\n",
        "x_test = np.concatenate((test_abnormal, test_normal), axis=0)\n",
        "y_test = np.concatenate((test_abnormal_labels, test_normal_labels), axis=0)\n",
        "\n",
        "print(f'Shape of x_test: {x_test.shape}')\n",
        "print(f'Shape of y_test: {y_test.shape}')\n"
      ]
    },
    {
      "cell_type": "code",
      "source": [
        "import torch\n",
        "from torch.utils.data import DataLoader, TensorDataset, random_split\n",
        "\n",
        "# Convert to PyTorch tensors\n",
        "x_test = torch.Tensor(x_test).float()\n",
        "y_test = torch.Tensor(y_test).long()\n",
        "\n",
        "# Combine the images and labels into a dataset\n",
        "test_dataset = TensorDataset(x_test, y_test)\n",
        "\n",
        "# Create a dataloader to load data in batches. Set batch size to 32.\n",
        "test_loader = DataLoader(test_dataset, batch_size=32, shuffle=True)"
      ],
      "metadata": {
        "id": "kY2yIFyWdzdY"
      },
      "execution_count": 61,
      "outputs": []
    },
    {
      "cell_type": "code",
      "source": [
        "# Declare the model architecture\n",
        "model = nn.Sequential(\n",
        "    nn.Flatten(),\n",
        "\n",
        "    nn.Linear(256*256*1, 64),\n",
        "    nn.BatchNorm1d(64),\n",
        "    nn.ReLU(),\n",
        "    nn.Dropout(0),\n",
        "\n",
        "    nn.Linear(64, 64),\n",
        "    nn.BatchNorm1d(64),\n",
        "    nn.ReLU(),\n",
        "    nn.Dropout(0),\n",
        "\n",
        "    nn.Linear(64, 64),\n",
        "    nn.BatchNorm1d(64),\n",
        "    nn.ReLU(),\n",
        "    nn.Dropout(0),\n",
        "\n",
        "    nn.Linear(64, 2)  # for CE\n",
        "    #nn.Linear(64, 1) # for BCE\n",
        ").cuda()\n",
        "\n",
        "\n",
        "# Load the trained weights\n",
        "model.load_state_dict(torch.load('model_classification.pth'))\n",
        "\n",
        "# Set the model to evaluation mode\n",
        "model.eval()"
      ],
      "metadata": {
        "colab": {
          "base_uri": "https://localhost:8080/"
        },
        "id": "BMy8DudKdxQB",
        "outputId": "1019a484-3f8c-45e2-a708-82be81a5efed"
      },
      "execution_count": 83,
      "outputs": [
        {
          "output_type": "execute_result",
          "data": {
            "text/plain": [
              "Sequential(\n",
              "  (0): Flatten(start_dim=1, end_dim=-1)\n",
              "  (1): Linear(in_features=65536, out_features=64, bias=True)\n",
              "  (2): BatchNorm1d(64, eps=1e-05, momentum=0.1, affine=True, track_running_stats=True)\n",
              "  (3): ReLU()\n",
              "  (4): Dropout(p=0, inplace=False)\n",
              "  (5): Linear(in_features=64, out_features=64, bias=True)\n",
              "  (6): BatchNorm1d(64, eps=1e-05, momentum=0.1, affine=True, track_running_stats=True)\n",
              "  (7): ReLU()\n",
              "  (8): Dropout(p=0, inplace=False)\n",
              "  (9): Linear(in_features=64, out_features=64, bias=True)\n",
              "  (10): BatchNorm1d(64, eps=1e-05, momentum=0.1, affine=True, track_running_stats=True)\n",
              "  (11): ReLU()\n",
              "  (12): Dropout(p=0, inplace=False)\n",
              "  (13): Linear(in_features=64, out_features=2, bias=True)\n",
              ")"
            ]
          },
          "metadata": {},
          "execution_count": 83
        }
      ]
    },
    {
      "cell_type": "code",
      "source": [
        "test_correct = 0\n",
        "test_total = 0\n",
        "\n",
        "\n",
        "with torch.no_grad():\n",
        "    for images, labels in test_loader:\n",
        "\n",
        "        images = images.cuda()\n",
        "        images = images / 255.\n",
        "\n",
        "        labels = labels.cuda()\n",
        "\n",
        "        outputs = model(images)\n",
        "\n",
        "        #labels_float = labels.float().unsqueeze(1)  # for BCE\n",
        "        labels_float = labels.long()  # for CE\n",
        "\n",
        "        #predicted = torch.sigmoid(outputs) > 0.5 # for BCE\n",
        "        predicted = outputs.argmax(-1)  # for CE\n",
        "\n",
        "        test_correct += (predicted.float() == labels_float).sum().item()\n",
        "        test_total += labels.size(0)\n",
        "\n",
        "print(f'Test accuracy is {100. * test_correct / test_total}%.')\n"
      ],
      "metadata": {
        "colab": {
          "base_uri": "https://localhost:8080/"
        },
        "id": "w_1j9p9ReC96",
        "outputId": "a59156fd-812b-4f90-f793-cbc595644ffc"
      },
      "execution_count": 84,
      "outputs": [
        {
          "output_type": "stream",
          "name": "stdout",
          "text": [
            "Test accuracy is 82.25%.\n"
          ]
        }
      ]
    }
  ],
  "metadata": {
    "accelerator": "GPU",
    "colab": {
      "gpuType": "T4",
      "provenance": [],
      "include_colab_link": true
    },
    "kernelspec": {
      "display_name": "Python 3",
      "name": "python3"
    },
    "language_info": {
      "codemirror_mode": {
        "name": "ipython",
        "version": 3
      },
      "file_extension": ".py",
      "mimetype": "text/x-python",
      "name": "python",
      "nbconvert_exporter": "python",
      "pygments_lexer": "ipython3",
      "version": "3.8.13"
    }
  },
  "nbformat": 4,
  "nbformat_minor": 0
}